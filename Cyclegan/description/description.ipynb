{
 "metadata": {
  "language_info": {
   "codemirror_mode": {
    "name": "ipython",
    "version": 3
   },
   "file_extension": ".py",
   "mimetype": "text/x-python",
   "name": "python",
   "nbconvert_exporter": "python",
   "pygments_lexer": "ipython3",
   "version": "3.6.9-final"
  },
  "orig_nbformat": 2,
  "kernelspec": {
   "name": "python_defaultSpec_1598629199820",
   "display_name": "Python 3.6.9 64-bit"
  }
 },
 "nbformat": 4,
 "nbformat_minor": 2,
 "cells": [
  {
   "cell_type": "markdown",
   "metadata": {},
   "source": [
    "# Install"
   ]
  },
  {
   "cell_type": "code",
   "execution_count": null,
   "metadata": {},
   "outputs": [],
   "source": [
    "!pip install -r requirements.txt"
   ]
  },
  {
   "cell_type": "markdown",
   "metadata": {},
   "source": [
    "# Training\n",
    "\n",
    "Change the `--dataroot` and `--name` to your own dataset's path and model's name. Use `--gpu_ids 0,1,..` to train on multiple GPUs and `--batch_size` to change the batch size. Add `--direction BtoA` if you want to train a model to transfrom from class B to A."
   ]
  },
  {
   "cell_type": "code",
   "execution_count": null,
   "metadata": {},
   "outputs": [],
   "source": [
    "!python3 train/train.py \\\n",
    "    --name pix2pix_part1_res\\\n",
    "    --defect_generator seamless_clone \\\n",
    "    --version no_rule_v1 \\\n",
    "    --dataroot raw_data/round_test/part1/TC_Images/ \\\n",
    "    --data_augmentation 4 \\\n",
    "    --model pix2pix \\\n",
    "    --direction BtoA \\\n",
    "    --checkpoints_dir temp_data/checkpoints/ \\\n",
    "    --input_nc 1 \\\n",
    "    --output_nc 1 \\\n",
    "    --no_html \\\n",
    "    --batch_size 1 \\\n",
    "    --netG unet_256 \\\n",
    "    --norm batch \\\n",
    "    --ngf 128 \\\n",
    "    --n_epochs 200 \\\n",
    "    --n_epochs_decay 200 "
   ]
  },
  {
   "cell_type": "markdown",
   "metadata": {},
   "source": [
    "# Testing\n",
    "\n",
    "Change the `--dataroot`, `--load_model_dir`, and `--output_path` to be consistent with your trained model's configuration.\n",
    "\n",
    "> `--dataroot` denotes the path to the test datasets.\n",
    "\n",
    "> `--load_model_dir` denotes the path to the pre-trained models.\n",
    "\n",
    "> `--output_path` denotes the output path for testing results."
   ]
  },
  {
   "cell_type": "markdown",
   "metadata": {},
   "source": [
    "## testing for part1"
   ]
  },
  {
   "cell_type": "code",
   "execution_count": null,
   "metadata": {},
   "outputs": [],
   "source": [
    "!python3 code/main.py \\\n",
    "    --dataroot raw_data/round_test/part1/TC_Images/ \\\n",
    "    --load_model_dir model/pix2pix_part1_res.pth \\\n",
    "    --output_path result/data/focusight1_round1_train_part1/TC_Images/ \\\n",
    "    --use_mask 1 \\\n",
    "    --contrast_thr 10 \\\n",
    "    --batch_size 1 \\\n",
    "    --netG unet_256 \\\n",
    "    --norm batch \\\n",
    "    --ngf 128 \\\n",
    "    --model test \\\n",
    "    --direction BtoA \\\n",
    "    --dataset_mode single \\\n",
    "    --checkpoints_dir temp_data/checkpoints/ \\\n",
    "    --results_dir temp_data/results/ \\\n",
    "    --input_nc 1 \\\n",
    "    --output_nc 1"
   ]
  },
  {
   "cell_type": "markdown",
   "metadata": {},
   "source": [
    "## testing for part2\n"
   ]
  },
  {
   "cell_type": "code",
   "execution_count": null,
   "metadata": {},
   "outputs": [],
   "source": [
    "!python3 code/main.py \\\n",
    "    --dataroot raw_data/round_test/part2/TC_Images/ \\\n",
    "    --load_model_dir model/pix2pix_part1_res.pth \\\n",
    "    --output_path result/data/focusight1_round1_train_part2/TC_Images/ \\\n",
    "    --use_mask 0 \\\n",
    "    --contrast_thr 10 \\\n",
    "    --batch_size 1 \\\n",
    "    --netG unet_256 \\\n",
    "    --norm batch \\\n",
    "    --ngf 128 \\\n",
    "    --model test \\\n",
    "    --direction BtoA \\\n",
    "    --dataset_mode single \\\n",
    "    --checkpoints_dir temp_data/checkpoints/ \\\n",
    "    --results_dir temp_data/results/ \\\n",
    "    --input_nc 1 \\\n",
    "    --output_nc 1"
   ]
  },
  {
   "cell_type": "markdown",
   "metadata": {},
   "source": [
    "# Zip up\n",
    "\n",
    "Zip up the data to data.zip"
   ]
  },
  {
   "cell_type": "code",
   "execution_count": null,
   "metadata": {
    "tags": []
   },
   "outputs": [],
   "source": [
    "!bash ../train/zip.sh"
   ]
  },
  {
   "cell_type": "code",
   "execution_count": null,
   "metadata": {},
   "outputs": [],
   "source": []
  }
 ]
}